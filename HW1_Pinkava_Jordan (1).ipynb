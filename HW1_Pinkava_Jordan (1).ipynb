{
 "cells": [
  {
   "cell_type": "markdown",
   "id": "0de902ff-7cc6-421c-adc7-007ce2d7dbcc",
   "metadata": {},
   "source": [
    "Name: Jordan Pinkava\n",
    "\n",
    "Course: BMGT404\n",
    "\n",
    "Section: 0201\n",
    "\n",
    "Date: February 8th, 2024"
   ]
  },
  {
   "cell_type": "markdown",
   "id": "1f6eade2-7442-4c49-9e39-41c0ad35d9dd",
   "metadata": {},
   "source": [
    "# Course Survey Analysis"
   ]
  },
  {
   "cell_type": "markdown",
   "id": "740b3fd7-db72-4f72-a351-5a24409cab18",
   "metadata": {},
   "source": [
    "The professor just got his results back from the survey, only to find out that students were able to answer 0 and 6 instead of just 1 through 5. \n",
    "Although this was a mistake, the professor wanted to learn from the valid results in the dataset and evaluate his teaching/course in order to improve for the following semester. His threshold for a 'good score' is anything above a 3.8, so he is hoping for a left skew. If he does not get that left skew, he will re-evalute his performance as a professor and the way he structures the course, in hopes to improve the student experience in future semesters.  \n",
    "\n",
    "Below, I fixed the data to focus on the valid scores and evalute how effective the professor and his class is. "
   ]
  },
  {
   "cell_type": "markdown",
   "id": "e391613f-d68b-45da-86ef-ab24c8eecfb0",
   "metadata": {},
   "source": [
    "First, it was important to gather (generate) the data so that we can perform the proper analyses on it."
   ]
  },
  {
   "cell_type": "code",
   "execution_count": 1,
   "id": "c51f3bd1-e4ab-4ebe-814a-b443358c02ac",
   "metadata": {},
   "outputs": [],
   "source": [
    "#import necessary datasets, which includes statistics and random\n",
    "#random is used to generate a random dataset, while statistics is used to perform descriptive statistics later on\n",
    "import statistics, random\n",
    "\n",
    "#create (generate) a dataset with 92 integers, ranging of values from 0 to 6, to represent the survey scores\n",
    "dataset = []\n",
    "random.seed(92)\n",
    "for num in range(92):\n",
    "    dataset.append(random.randrange(0, 7))"
   ]
  },
  {
   "cell_type": "markdown",
   "id": "f1b681db-3342-442d-9d4d-8d035207d7fc",
   "metadata": {},
   "source": [
    "Now that our data has been collected, we can see how many scores were valid (between 1 and 5) and how many were invalid (0 or 6). To seperate the two, we will create counters that will catch every time it sees a valid or invalid number during the iteration. "
   ]
  },
  {
   "cell_type": "code",
   "execution_count": 2,
   "id": "2584ce2f-3439-458d-bc6d-4b4d60c3373a",
   "metadata": {},
   "outputs": [
    {
     "ename": "NameError",
     "evalue": "name 'v_count' is not defined",
     "output_type": "error",
     "traceback": [
      "\u001b[1;31m---------------------------------------------------------------------------\u001b[0m",
      "\u001b[1;31mNameError\u001b[0m                                 Traceback (most recent call last)",
      "\u001b[1;32m~\\AppData\\Local\\Temp\\ipykernel_95200\\1151360874.py\u001b[0m in \u001b[0;36m<module>\u001b[1;34m\u001b[0m\n\u001b[0;32m      9\u001b[0m         \u001b[0minvalid_count\u001b[0m \u001b[1;33m+=\u001b[0m \u001b[1;36m1\u001b[0m\u001b[1;33m\u001b[0m\u001b[1;33m\u001b[0m\u001b[0m\n\u001b[0;32m     10\u001b[0m         \u001b[0minvalid_percent\u001b[0m \u001b[1;33m=\u001b[0m \u001b[1;33m(\u001b[0m\u001b[0minvalid_count\u001b[0m\u001b[1;33m/\u001b[0m\u001b[1;36m92\u001b[0m\u001b[1;33m)\u001b[0m\u001b[1;33m*\u001b[0m\u001b[1;36m100\u001b[0m\u001b[1;33m\u001b[0m\u001b[1;33m\u001b[0m\u001b[0m\n\u001b[1;32m---> 11\u001b[1;33m \u001b[0mprint\u001b[0m\u001b[1;33m(\u001b[0m\u001b[1;34mf\"Out of the 92 scores in the dataset, the number of valid scores is {v_count} and the percentage of valid scores is {valid_percent:.2f}\"\u001b[0m\u001b[1;33m)\u001b[0m\u001b[1;33m\u001b[0m\u001b[1;33m\u001b[0m\u001b[0m\n\u001b[0m\u001b[0;32m     12\u001b[0m \u001b[0mprint\u001b[0m\u001b[1;33m(\u001b[0m\u001b[1;34mf\"Out of the 92 scores in the dataset, the number of invalid scores is {inv_count} and the percentage of invalid scores is {invalid_percent:.2f}\"\u001b[0m\u001b[1;33m)\u001b[0m\u001b[1;33m\u001b[0m\u001b[1;33m\u001b[0m\u001b[0m\n",
      "\u001b[1;31mNameError\u001b[0m: name 'v_count' is not defined"
     ]
    }
   ],
   "source": [
    "#determine number and percentage of valid (1-5) and invalid (0, 6) scores to see how many scores were within the right range\n",
    "valid_count = 0\n",
    "invalid_count = 0\n",
    "for num in dataset:\n",
    "    if num in range(1, 6):\n",
    "        valid_count += 1\n",
    "        valid_percent = (valid_count/92)*100\n",
    "    elif num == 0 or num == 6:\n",
    "        invalid_count += 1\n",
    "        invalid_percent = (invalid_count/92)*100 \n",
    "print(f\"Out of the 92 scores in the dataset, the number of valid scores is {v_count} and the percentage of valid scores is {valid_percent:.2f}\")\n",
    "print(f\"Out of the 92 scores in the dataset, the number of invalid scores is {inv_count} and the percentage of invalid scores is {invalid_percent:.2f}\")"
   ]
  },
  {
   "cell_type": "markdown",
   "id": "f348f244-d6a1-4587-a549-2182510f9011",
   "metadata": {},
   "source": [
    "To proceed with the analysis, we want to focus only on the scores that we deem valid. From here, we will create a seperate dataset to hold our valid or 'cleaned' data, as to get the most accurate analysis we can. \n",
    "\n",
    "To do this, an empty dataset was created and each number that was not a 0 or 6 was added to that \"clean\" dataset."
   ]
  },
  {
   "cell_type": "code",
   "execution_count": 3,
   "id": "6e69fbd2-526d-4bfa-9ae3-b3c2b6962832",
   "metadata": {},
   "outputs": [
    {
     "name": "stdout",
     "output_type": "stream",
     "text": [
      "The original dataset had 92 scores: [3, 4, 4, 4, 4, 6, 4, 2, 6, 6, 5, 6, 6, 0, 4, 4, 3, 1, 6, 6, 0, 4, 5, 5, 2, 0, 0, 6, 0, 5, 5, 6, 1, 6, 4, 1, 4, 4, 1, 5, 3, 3, 5, 5, 6, 1, 5, 0, 5, 6, 1, 6, 3, 0, 3, 2, 3, 0, 2, 1, 5, 1, 1, 4, 1, 1, 6, 4, 1, 3, 6, 0, 3, 5, 6, 2, 2, 2, 5, 6, 0, 6, 5, 4, 4, 0, 2, 3, 1, 4, 4, 2]\n",
      "After the dataset is cleaned, there are 63 scores left: [3, 4, 4, 4, 4, 4, 2, 5, 4, 4, 3, 1, 4, 5, 5, 2, 5, 5, 1, 4, 1, 4, 4, 1, 5, 3, 3, 5, 5, 1, 5, 5, 1, 3, 3, 2, 3, 2, 1, 5, 1, 1, 4, 1, 1, 4, 1, 3, 3, 5, 2, 2, 2, 5, 5, 4, 4, 2, 3, 1, 4, 4, 2]\n"
     ]
    }
   ],
   "source": [
    "#create an empty list that will hold all of the valid scores from the survey\n",
    "cleaned = []\n",
    "\n",
    "#to display the original scores and total score count\n",
    "print(f\"The original dataset had {len(dataset)} scores: {dataset}\")\n",
    "\n",
    "#add only the valid scores (1-5) to our cleaned list\n",
    "for num in dataset:\n",
    "    if num != 0 and num != 6:\n",
    "        cleaned.append(num)\n",
    "        \n",
    "#to display our new dataset and how many scores were valid\n",
    "print(f\"After the dataset is cleaned, there are {len(cleaned)} scores left: {cleaned}\")"
   ]
  },
  {
   "cell_type": "markdown",
   "id": "2e0cc4c0-6a39-46a2-9c5f-c7b07c28621e",
   "metadata": {},
   "source": [
    "We are also curious about the frequency of these values in the dataset. Below is a function that you can invoke by asking it for a number (score) and it will return how many times that score appeared in our original dataset. "
   ]
  },
  {
   "cell_type": "code",
   "execution_count": 4,
   "id": "258bd084-9f29-409b-8d7b-bdd2a1986838",
   "metadata": {},
   "outputs": [
    {
     "data": {
      "text/plain": [
       "'The score 4 occurs 17 times in the dataset'"
      ]
     },
     "execution_count": 4,
     "metadata": {},
     "output_type": "execute_result"
    }
   ],
   "source": [
    "#create a function that returns the frequency of a value (how many times x occurs) in the data set\n",
    "def frequency(score):\n",
    "    '''Takes in the score from the original survey dataset.\n",
    "    Returns how many times that score occured in that dataset'''\n",
    "    freq = dataset.count(score)\n",
    "    return f\"The score {score} occurs {freq} times in the dataset\"\n",
    "frequency(4)"
   ]
  },
  {
   "cell_type": "markdown",
   "id": "0210ea35-cb89-4cd4-bcf4-7e87b453b0e0",
   "metadata": {},
   "source": [
    "It is also important to see the descriptive statistics of our dataset as data scientists! Below we created a function that shows us a formatted table with the mean, median, minimum, maximum, and range of the dataset."
   ]
  },
  {
   "cell_type": "code",
   "execution_count": 5,
   "id": "d2c07d1f-8986-494e-9afe-40be54672d4c",
   "metadata": {},
   "outputs": [
    {
     "name": "stdout",
     "output_type": "stream",
     "text": [
      "Descriptive Statistics of the Cleaned Dataset:\n",
      "Mean\t\tMedian\t\tMinimum\t\tMaximum\t\tVariance\n",
      "3.16\t\t3\t\t1\t\t5\t\t2.14\n"
     ]
    }
   ],
   "source": [
    "#a function that presents a formatted table of all the descriptive statistics of the dataset\n",
    "def desc_stat():\n",
    "    '''Returns a table of descriptive statistics'''\n",
    "    print(f\"Mean\\t\\tMedian\\t\\tMinimum\\t\\tMaximum\\t\\tVariance\")\n",
    "    print(f\"{round(statistics.mean(cleaned), 2)}\\t\\t{round(statistics.median(cleaned), 2)}\\t\\t{min(cleaned)}\\t\\t{max(cleaned)}\\t\\t{round(statistics.variance(cleaned), 2)}\")\n",
    "print(\"Descriptive Statistics of the Cleaned Dataset:\")\n",
    "desc_stat()"
   ]
  },
  {
   "cell_type": "markdown",
   "id": "ad3bf221-f470-4a38-badf-c1105ec921b4",
   "metadata": {},
   "source": [
    "We also created a table to display each score, the frequency of that score, and the percentage of that frequency. This is meant to easily display us important information on how students responded to the professors survey. "
   ]
  },
  {
   "cell_type": "code",
   "execution_count": 6,
   "id": "5704d20c-445b-48a4-9765-b9ab5f609fdf",
   "metadata": {},
   "outputs": [
    {
     "name": "stdout",
     "output_type": "stream",
     "text": [
      "Score:\tFrequency:\tPercentage:\n",
      "0 \t11 \t\t11.96\n",
      "1 \t13 \t\t14.13\n",
      "2 \t9 \t\t9.78\n",
      "3 \t10 \t\t10.87\n",
      "4 \t17 \t\t18.48\n",
      "5 \t14 \t\t15.22\n",
      "6 \t18 \t\t19.57\n"
     ]
    }
   ],
   "source": [
    "#below we create a table that shows the score, the frequency, and percentage of that score's frequency\n",
    "\n",
    "# for loop and conditional to figure out each score's frequency and percentage\n",
    "for num in dataset:\n",
    "    if num == 0:\n",
    "        freq0 = dataset.count(num)\n",
    "        perc0 = (freq0/92)*100\n",
    "    elif num == 1:\n",
    "        freq1 = dataset.count(num)\n",
    "        perc1 = (freq1/92)*100\n",
    "    elif num == 2:\n",
    "        freq2 = dataset.count(num)\n",
    "        perc2 = (freq2/92)*100\n",
    "    elif num == 3:\n",
    "        freq3 = dataset.count(num)\n",
    "        perc3 = (freq3/92)*100\n",
    "    elif num == 4:\n",
    "        freq4 = dataset.count(num)\n",
    "        perc4 = (freq4/92)*100\n",
    "    elif num == 5:\n",
    "        freq5 = dataset.count(num)\n",
    "        perc5 = (freq5/92)*100\n",
    "    else:\n",
    "        freq6 = dataset.count(num)\n",
    "        perc6 = (freq6/92)*100\n",
    "#a nicely printed output of the scores, frequencies, and percentages\n",
    "print(f\"Score:\\tFrequency:\\tPercentage:\")\n",
    "print(f\"0 \\t{freq0} \\t\\t{perc0:.2f}\")\n",
    "print(f\"1 \\t{freq1} \\t\\t{perc1:.2f}\")\n",
    "print(f\"2 \\t{freq2} \\t\\t{perc2:.2f}\")\n",
    "print(f\"3 \\t{freq3} \\t\\t{perc3:.2f}\")\n",
    "print(f\"4 \\t{freq4} \\t\\t{perc4:.2f}\")\n",
    "print(f\"5 \\t{freq5} \\t\\t{perc5:.2f}\")\n",
    "print(f\"6 \\t{freq6} \\t\\t{perc6:.2f}\")"
   ]
  },
  {
   "cell_type": "markdown",
   "id": "74ef39f2-27b3-4905-9960-ba0fb33d81a6",
   "metadata": {},
   "source": [
    "Now that we've taken a look at the data, we can test what percent of the scores were considered good. Based on the results, we can use that as a significant indicator on the professors performance and class. We put together a list of all the scores that were above a 3.8, and then got the percentage of how many scores were considered a good score."
   ]
  },
  {
   "cell_type": "code",
   "execution_count": 7,
   "id": "602a4612-291b-4682-adff-998749642c8e",
   "metadata": {},
   "outputs": [
    {
     "name": "stdout",
     "output_type": "stream",
     "text": [
      "The percentage of scores that are good, or above 3.8, is 49.21%\n"
     ]
    }
   ],
   "source": [
    "#determine the percentage of good (above 3.8) survey scores to determine how effective the professor's teaching is\n",
    "good_score = 3.8\n",
    "percent_list = []\n",
    "for score in cleaned:\n",
    "    if score > 3.8:\n",
    "        percent_list.append(score)\n",
    "        percentage_good = (len(percent_list)/len(cleaned))*100\n",
    "print(f\"The percentage of scores that are good, or above 3.8, is {percentage_good:.2f}%\")"
   ]
  },
  {
   "cell_type": "markdown",
   "id": "4d8f3c6b-1c68-404a-80b3-703a9e0a61cc",
   "metadata": {},
   "source": [
    "## Recommendations for the professor\n",
    "\n",
    "Based on the data, there are three things the professor should do to improve his class (and his survey taking skills):\n",
    "1. Seeing that the percentage of scores that are above a 3.8 (which are considered \"good\" scores) is about 50%, that is telling that the professor has some work to do! With only half the class rating the professor's teaching as effective, that essentially means that half of the class is struggling with their teaching performance. In order to fix this, the professor should send the students another survey (with the correct range for scores) and ask them what they think are the most effective teaching styles for them to learn from. From there, the professor should analyze the scores to see which teaching styles will be most effective for the majority of the students in the class, and maybe see how to incorporate multiple effective teaching styles.\n",
    "\n",
    "2. After cleaning up the data and taking out the scores that were either a 0 or a 6, there were 63 valid scores. This means that 29 students scores were not accounted for. Since nearly 30 student's perspectives were lost, the professor probably should have considered giving out an accurate survey, or adjusted the 0 and 6 scores to be included in the 1 and 5 score count (assuming that those who chose 6 were just choosing the highest score available, and the opposite for those who chose 0). Further, this may be telling on how the professor communicates with the students. If they told the students and wrote instructions that said they wanted scores between a 1 and 5, then they could have gotten a larger percentage of valid scores. In my opinion, the professor should have re-surveyed the students or had better communication/instructions on the survey. \n",
    "\n",
    "3. Since the mean and median fall on/around 3, it is telling that the professor's teaching effectiveness is only medicore. Like we saw, only about half the class gave them a good score, and their average score was below a 'good score'. Another recommendation to improve their ratings is to work on the course structure. The survey rates the students experience in BMGT404, so many students may be rating both the professor's teaching effectiveness and the way the course works. To improve the course overall, they should trial some other methods/formats for the class and ask their students which felt most effective/helpful. They can also do another survey for this concern, maybe to see if the bigger issue is their teaching style or the course's structure, and further assess from there. "
   ]
  },
  {
   "cell_type": "markdown",
   "id": "5fcd6343-22c4-45f2-bcc3-7060826694ca",
   "metadata": {},
   "source": [
    "\"I pledge on my honor that I have not given nor received any unauthorized\n",
    "assistance on this assignment.\"\n",
    "Jordan Pinkava"
   ]
  }
 ],
 "metadata": {
  "kernelspec": {
   "display_name": "Python 3 (ipykernel)",
   "language": "python",
   "name": "python3"
  },
  "language_info": {
   "codemirror_mode": {
    "name": "ipython",
    "version": 3
   },
   "file_extension": ".py",
   "mimetype": "text/x-python",
   "name": "python",
   "nbconvert_exporter": "python",
   "pygments_lexer": "ipython3",
   "version": "3.9.13"
  }
 },
 "nbformat": 4,
 "nbformat_minor": 5
}
